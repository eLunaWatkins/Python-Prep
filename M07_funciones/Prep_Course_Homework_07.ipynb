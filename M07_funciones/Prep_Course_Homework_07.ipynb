{
 "cells": [
  {
   "attachments": {},
   "cell_type": "markdown",
   "metadata": {},
   "source": [
    "## Funciones"
   ]
  },
  {
   "attachments": {},
   "cell_type": "markdown",
   "metadata": {},
   "source": [
    "1) Crear una función que reciba un número como parámetro y devuelva True si es primo y False si no lo es"
   ]
  },
  {
   "cell_type": "code",
   "execution_count": 14,
   "metadata": {},
   "outputs": [
    {
     "name": "stdout",
     "output_type": "stream",
     "text": [
      "True\n"
     ]
    }
   ],
   "source": [
    "def esPrimo(unNumero):\n",
    "    resultado = True\n",
    "    if unNumero > 1:\n",
    "       for n in range(2, unNumero):\n",
    "           if (unNumero % n) == 0:\n",
    "               resultado = False\n",
    "               break\n",
    "    return resultado\n",
    "\n",
    "print(esPrimo(11))"
   ]
  },
  {
   "attachments": {},
   "cell_type": "markdown",
   "metadata": {},
   "source": [
    "2) Utilizando la función del punto 1, realizar otra función que reciba de parámetro una lista de números y devuelva sólo aquellos que son primos en otra lista"
   ]
  },
  {
   "cell_type": "code",
   "execution_count": 18,
   "metadata": {},
   "outputs": [
    {
     "name": "stdout",
     "output_type": "stream",
     "text": [
      "[0, 1, 2, 3, 5, 7]\n"
     ]
    }
   ],
   "source": [
    "def getPrimos(unaLista):\n",
    "    primos = []\n",
    "    for n in unaLista:\n",
    "        if esPrimo(n):\n",
    "            primos.append(n)\n",
    "    return primos\n",
    "\n",
    "print(getPrimos(list(range(0,10))))"
   ]
  },
  {
   "attachments": {},
   "cell_type": "markdown",
   "metadata": {},
   "source": [
    "3) Crear una función que al recibir una lista de números, devuelva el que más se repite y cuántas veces lo hace. Si hay más de un \"más repetido\", que devuelva cualquiera"
   ]
  },
  {
   "cell_type": "code",
   "execution_count": 19,
   "metadata": {},
   "outputs": [
    {
     "name": "stdout",
     "output_type": "stream",
     "text": [
      "(32, 3)\n"
     ]
    }
   ],
   "source": [
    "def getElMasRepetido(unaLista):\n",
    "    elMasRepetido = 0\n",
    "    apariciones = 0\n",
    "    for n in unaLista:\n",
    "        if (unaLista.count(n) > apariciones):\n",
    "            elMasRepetido = n\n",
    "            apariciones = unaLista.count(n)\n",
    "    return elMasRepetido, apariciones\n",
    "\n",
    "print(getElMasRepetido([12,32,45,32,17,19,12,32]))"
   ]
  },
  {
   "attachments": {},
   "cell_type": "markdown",
   "metadata": {},
   "source": [
    "4) Crear una función que convierta entre grados Celsius, Farenheit y Kelvin<br>\n",
    "Fórmula 1\t: (°C × 9/5) + 32 = °F<br>\n",
    "Fórmula 2\t: °C + 273.15 = °K<br>\n",
    "Debe recibir 3 parámetros: el valor, la medida de orígen y la medida de destino\n"
   ]
  },
  {
   "cell_type": "code",
   "execution_count": 6,
   "metadata": {},
   "outputs": [
    {
     "name": "stdout",
     "output_type": "stream",
     "text": [
      "68.0\n",
      "-319.27\n",
      "None\n"
     ]
    }
   ],
   "source": [
    "unidadesTemperaturaValidas = '°K','°C','°F'\n",
    "\n",
    "def esUnaMedidaDeTemperaturaValida(medidaDeTemperatura: str):\n",
    "    if (len(medidaDeTemperatura) == 2):\n",
    "        return medidaDeTemperatura.endswith(unidadesTemperaturaValidas)\n",
    "    return False\n",
    "\n",
    "def convertirGrados(valor: float, medidaOrigen: str, medidaDestino: str):\n",
    "    if esUnaMedidaDeTemperaturaValida(medidaOrigen) and esUnaMedidaDeTemperaturaValida(medidaDestino):\n",
    "        if medidaOrigen == medidaDestino:\n",
    "            return valor\n",
    "        elif '°C' == medidaOrigen:\n",
    "            if '°F' == medidaDestino:\n",
    "                return (valor * 9/5) + 32\n",
    "            else: #'°K' == medidaDestino\n",
    "                return valor + 273.15\n",
    "        elif '°F' == medidaOrigen:\n",
    "            if '°C' == medidaDestino:\n",
    "                return 5/9 * (valor - 32)\n",
    "            else: #'°K' == medidaDestino:\n",
    "                return 5/9 * (valor - 32) + 273.15\n",
    "        elif '°K' == medidaOrigen:\n",
    "            if '°C' == medidaDestino:\n",
    "                return valor - 273.15\n",
    "            else: #'°F' == medidaDestino:\n",
    "                return 9/5 * (valor - 273.15) + 32\n",
    "\n",
    "print(convertirGrados(20, '°C', '°F'))\n",
    "print(convertirGrados(78, '°K', '°F'))\n",
    "print(convertirGrados(15, '°C', '°J'))"
   ]
  },
  {
   "attachments": {},
   "cell_type": "markdown",
   "metadata": {},
   "source": [
    "5) Iterando una lista con los tres valores posibles de temperatura que recibe la función del punto 5, hacer un print para cada combinación de los mismos:"
   ]
  },
  {
   "cell_type": "code",
   "execution_count": 7,
   "metadata": {},
   "outputs": [
    {
     "name": "stdout",
     "output_type": "stream",
     "text": [
      "20 °K equivale a -253.14999999999998 °C\n",
      "20 °K equivale a -423.66999999999996 °F\n",
      "20 °C equivale a 293.15 °K\n",
      "20 °C equivale a 68.0 °F\n",
      "20 °F equivale a 266.4833333333333 °K\n",
      "20 °F equivale a -6.666666666666667 °C\n"
     ]
    }
   ],
   "source": [
    "valor = 20\n",
    "\n",
    "for temperatura in unidadesTemperaturaValidas:\n",
    "    otrasTemperaturas: list = list(unidadesTemperaturaValidas).copy()\n",
    "    otrasTemperaturas.remove(temperatura)\n",
    "    for otraTemperatura in otrasTemperaturas:\n",
    "        valorConvertido = convertirGrados(valor, temperatura, otraTemperatura)\n",
    "        print(str(valor)+' '+temperatura+' equivale a '+str(valorConvertido)+' '+otraTemperatura)"
   ]
  },
  {
   "attachments": {},
   "cell_type": "markdown",
   "metadata": {},
   "source": [
    "6) Armar una función que devuelva el factorial de un número. Tener en cuenta que el usuario puede equivocarse y enviar de parámetro un número no entero o negativo"
   ]
  },
  {
   "cell_type": "code",
   "execution_count": 16,
   "metadata": {},
   "outputs": [
    {
     "name": "stdout",
     "output_type": "stream",
     "text": [
      "720\n",
      "None\n"
     ]
    },
    {
     "ename": "TypeError",
     "evalue": "'float' object cannot be interpreted as an integer",
     "output_type": "error",
     "traceback": [
      "\u001b[1;31m---------------------------------------------------------------------------\u001b[0m",
      "\u001b[1;31mTypeError\u001b[0m                                 Traceback (most recent call last)",
      "\u001b[1;32mc:\\Users\\eilw2\\Repositorios\\Python-Prep\\M07_funciones\\Prep_Course_Homework_07.ipynb Cell 13\u001b[0m line \u001b[0;36m1\n\u001b[0;32m      <a href='vscode-notebook-cell:/c%3A/Users/eilw2/Repositorios/Python-Prep/M07_funciones/Prep_Course_Homework_07.ipynb#X15sZmlsZQ%3D%3D?line=7'>8</a>\u001b[0m \u001b[39mprint\u001b[39m(factorial(\u001b[39m6\u001b[39m))\n\u001b[0;32m      <a href='vscode-notebook-cell:/c%3A/Users/eilw2/Repositorios/Python-Prep/M07_funciones/Prep_Course_Homework_07.ipynb#X15sZmlsZQ%3D%3D?line=8'>9</a>\u001b[0m \u001b[39mprint\u001b[39m(factorial(\u001b[39m-\u001b[39m\u001b[39m10\u001b[39m))\n\u001b[1;32m---> <a href='vscode-notebook-cell:/c%3A/Users/eilw2/Repositorios/Python-Prep/M07_funciones/Prep_Course_Homework_07.ipynb#X15sZmlsZQ%3D%3D?line=9'>10</a>\u001b[0m \u001b[39mprint\u001b[39m(factorial(\u001b[39m2.5\u001b[39;49m))\n",
      "\u001b[1;32mc:\\Users\\eilw2\\Repositorios\\Python-Prep\\M07_funciones\\Prep_Course_Homework_07.ipynb Cell 13\u001b[0m line \u001b[0;36m4\n\u001b[0;32m      <a href='vscode-notebook-cell:/c%3A/Users/eilw2/Repositorios/Python-Prep/M07_funciones/Prep_Course_Homework_07.ipynb#X15sZmlsZQ%3D%3D?line=1'>2</a>\u001b[0m \u001b[39mif\u001b[39;00m unNumero \u001b[39m>\u001b[39m \u001b[39m0\u001b[39m:\n\u001b[0;32m      <a href='vscode-notebook-cell:/c%3A/Users/eilw2/Repositorios/Python-Prep/M07_funciones/Prep_Course_Homework_07.ipynb#X15sZmlsZQ%3D%3D?line=2'>3</a>\u001b[0m     factorial \u001b[39m=\u001b[39m \u001b[39m1\u001b[39m\n\u001b[1;32m----> <a href='vscode-notebook-cell:/c%3A/Users/eilw2/Repositorios/Python-Prep/M07_funciones/Prep_Course_Homework_07.ipynb#X15sZmlsZQ%3D%3D?line=3'>4</a>\u001b[0m     \u001b[39mfor\u001b[39;00m n \u001b[39min\u001b[39;00m \u001b[39mrange\u001b[39m(\u001b[39m1\u001b[39m, unNumero\u001b[39m+\u001b[39m\u001b[39m1\u001b[39m):\n\u001b[0;32m      <a href='vscode-notebook-cell:/c%3A/Users/eilw2/Repositorios/Python-Prep/M07_funciones/Prep_Course_Homework_07.ipynb#X15sZmlsZQ%3D%3D?line=4'>5</a>\u001b[0m         factorial \u001b[39m*\u001b[39m\u001b[39m=\u001b[39m n\n\u001b[0;32m      <a href='vscode-notebook-cell:/c%3A/Users/eilw2/Repositorios/Python-Prep/M07_funciones/Prep_Course_Homework_07.ipynb#X15sZmlsZQ%3D%3D?line=5'>6</a>\u001b[0m     \u001b[39mreturn\u001b[39;00m factorial\n",
      "\u001b[1;31mTypeError\u001b[0m: 'float' object cannot be interpreted as an integer"
     ]
    }
   ],
   "source": [
    "def factorial(unNumero: int):\n",
    "    if unNumero > 0:\n",
    "        factorial = 1\n",
    "        for n in range(1, unNumero+1):\n",
    "            factorial *= n\n",
    "        return factorial\n",
    "\n",
    "print(factorial(6))\n",
    "print(factorial(-10))\n",
    "print(factorial(2.5))"
   ]
  }
 ],
 "metadata": {
  "interpreter": {
   "hash": "c85384e4cb51c8b72350f3a8712cc8351fdc3955e32a27f9b60c6242ab125f01"
  },
  "kernelspec": {
   "display_name": "Python 3 (ipykernel)",
   "language": "python",
   "name": "python3"
  },
  "language_info": {
   "codemirror_mode": {
    "name": "ipython",
    "version": 3
   },
   "file_extension": ".py",
   "mimetype": "text/x-python",
   "name": "python",
   "nbconvert_exporter": "python",
   "pygments_lexer": "ipython3",
   "version": "3.11.6"
  }
 },
 "nbformat": 4,
 "nbformat_minor": 4
}
