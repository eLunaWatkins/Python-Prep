{
 "cells": [
  {
   "attachments": {},
   "cell_type": "markdown",
   "metadata": {},
   "source": [
    "## Flujos de Control"
   ]
  },
  {
   "attachments": {},
   "cell_type": "markdown",
   "metadata": {},
   "source": [
    "1) Crear una variable que contenga un elemento del conjunto de números enteros y luego imprimir por pantalla si es mayor o menor a cero"
   ]
  },
  {
   "cell_type": "code",
   "execution_count": 1,
   "metadata": {},
   "outputs": [
    {
     "name": "stdout",
     "output_type": "stream",
     "text": [
      "Es mayor a 0 (cero)\n"
     ]
    }
   ],
   "source": [
    "entero = 3\n",
    "if entero > 0:\n",
    "    print (\"Es mayor a 0 (cero)\")\n",
    "else:\n",
    "    print (\"No es mayor a 0 (cero)\")"
   ]
  },
  {
   "attachments": {},
   "cell_type": "markdown",
   "metadata": {},
   "source": [
    "2) Crear dos variables y un condicional que informe si son del mismo tipo de dato"
   ]
  },
  {
   "cell_type": "code",
   "execution_count": 2,
   "metadata": {},
   "outputs": [
    {
     "name": "stdout",
     "output_type": "stream",
     "text": [
      "Son variables de distinto tipo\n"
     ]
    }
   ],
   "source": [
    "variable1 = 1\n",
    "variableA = 'A'\n",
    "if (type(variable1) == type(variableA)):\n",
    "    print (\"Son variables del mismo tipo\")\n",
    "else:\n",
    "    print (\"Son variables de distinto tipo\")"
   ]
  },
  {
   "attachments": {},
   "cell_type": "markdown",
   "metadata": {},
   "source": [
    "3) Para los valores enteros del 1 al 20, imprimir por pantalla si es par o impar"
   ]
  },
  {
   "cell_type": "code",
   "execution_count": 4,
   "metadata": {},
   "outputs": [
    {
     "name": "stdout",
     "output_type": "stream",
     "text": [
      "1 es impar.\n",
      "2 es par.\n",
      "3 es impar.\n",
      "4 es par.\n",
      "5 es impar.\n",
      "6 es par.\n",
      "7 es impar.\n",
      "8 es par.\n",
      "9 es impar.\n",
      "10 es par.\n",
      "11 es impar.\n",
      "12 es par.\n",
      "13 es impar.\n",
      "14 es par.\n",
      "15 es impar.\n",
      "16 es par.\n",
      "17 es impar.\n",
      "18 es par.\n",
      "19 es impar.\n",
      "20 es par.\n"
     ]
    }
   ],
   "source": [
    "for n in range(1,21):\n",
    "    if (n % 2 > 0):\n",
    "        print (str(n) + \" es impar.\")\n",
    "    else:\n",
    "        print (str(n) + \" es par.\")"
   ]
  },
  {
   "attachments": {},
   "cell_type": "markdown",
   "metadata": {},
   "source": [
    "4) En un ciclo for mostrar para los valores entre 0 y 5 el resultado de elevarlo a la potencia igual a 3"
   ]
  },
  {
   "cell_type": "code",
   "execution_count": 5,
   "metadata": {},
   "outputs": [
    {
     "name": "stdout",
     "output_type": "stream",
     "text": [
      "0\n",
      "1\n",
      "8\n",
      "27\n",
      "64\n"
     ]
    }
   ],
   "source": [
    "for n in range (0,5):\n",
    "    print (n**3)"
   ]
  },
  {
   "attachments": {},
   "cell_type": "markdown",
   "metadata": {},
   "source": [
    "5) Crear una variable que contenga un número entero y realizar un ciclo for la misma cantidad de ciclos"
   ]
  },
  {
   "cell_type": "code",
   "execution_count": 8,
   "metadata": {},
   "outputs": [
    {
     "name": "stdout",
     "output_type": "stream",
     "text": [
      "Iteración: 1\n",
      "Iteración: 2\n",
      "Iteración: 3\n",
      "Iteración: 4\n",
      "Iteración: 5\n"
     ]
    }
   ],
   "source": [
    "variable5 = 5\n",
    "for n in range(0,variable5):\n",
    "    print (\"Iteración: \" + str(n+1))"
   ]
  },
  {
   "attachments": {},
   "cell_type": "markdown",
   "metadata": {},
   "source": [
    "6) Utilizar un ciclo while para realizar el factorial de un número guardado en una variable, sólo si la variable contiene un número entero mayor a 0"
   ]
  },
  {
   "cell_type": "code",
   "execution_count": 16,
   "metadata": {},
   "outputs": [
    {
     "name": "stdout",
     "output_type": "stream",
     "text": [
      "40320\n"
     ]
    }
   ],
   "source": [
    "variable8 = 8\n",
    "if variable8 > 0:\n",
    "    factorial = 1\n",
    "    for n in range(1, variable8+1):\n",
    "        factorial *= n\n",
    "print(factorial)"
   ]
  },
  {
   "attachments": {},
   "cell_type": "markdown",
   "metadata": {},
   "source": [
    "7) Crear un ciclo for dentro de un ciclo while"
   ]
  },
  {
   "cell_type": "code",
   "execution_count": 18,
   "metadata": {},
   "outputs": [
    {
     "name": "stdout",
     "output_type": "stream",
     "text": [
      "20\n"
     ]
    }
   ],
   "source": [
    "variableX = 5\n",
    "resultado = 0\n",
    "while (variableX > 0):\n",
    "    for n in range(0, variableX):\n",
    "        resultado += n\n",
    "    variableX -= 1\n",
    "print(resultado)\n"
   ]
  },
  {
   "attachments": {},
   "cell_type": "markdown",
   "metadata": {},
   "source": [
    "8) Crear un ciclo while dentro de un ciclo for"
   ]
  },
  {
   "cell_type": "code",
   "execution_count": 22,
   "metadata": {},
   "outputs": [
    {
     "name": "stdout",
     "output_type": "stream",
     "text": [
      "0\n"
     ]
    }
   ],
   "source": [
    "variableY = 5\n",
    "resultado = 0\n",
    "for n in range(0, variableY):\n",
    "    while (variableY == variableX):\n",
    "        resultado += n\n",
    "    variableY -= 1\n",
    "print(resultado)"
   ]
  },
  {
   "attachments": {},
   "cell_type": "markdown",
   "metadata": {},
   "source": [
    "9) Imprimir los números primos existentes entre 0 y 30"
   ]
  },
  {
   "cell_type": "code",
   "execution_count": 24,
   "metadata": {},
   "outputs": [
    {
     "name": "stdout",
     "output_type": "stream",
     "text": [
      "2\n",
      "3\n",
      "5\n",
      "7\n",
      "11\n",
      "13\n",
      "17\n",
      "19\n",
      "23\n",
      "29\n"
     ]
    }
   ],
   "source": [
    "for num in range(0,30+1):\n",
    "   if num > 1:\n",
    "       for n in range(2, num):\n",
    "           if (num % n) == 0:\n",
    "               break\n",
    "       else:\n",
    "           print(num)"
   ]
  },
  {
   "attachments": {},
   "cell_type": "markdown",
   "metadata": {},
   "source": [
    "10) ¿Se puede mejorar el proceso del punto 9? Utilizar las sentencias break y/ó continue para tal fin"
   ]
  },
  {
   "cell_type": "code",
   "execution_count": null,
   "metadata": {},
   "outputs": [],
   "source": [
    "#Dado que ya usamos un break en el punto 9, no ubico la forma de resolver el punto anterior sin usar uno"
   ]
  },
  {
   "attachments": {},
   "cell_type": "markdown",
   "metadata": {},
   "source": [
    "11) En los puntos 9 y 10, se diseño un código que encuentra números primos y además se lo optimizó. ¿Es posible saber en qué medida se optimizó?"
   ]
  },
  {
   "cell_type": "code",
   "execution_count": null,
   "metadata": {},
   "outputs": [],
   "source": [
    "#Dado que ya estaba optimizado en el punto 9, no hubo mejora en el punto 10"
   ]
  },
  {
   "attachments": {},
   "cell_type": "markdown",
   "metadata": {},
   "source": [
    "12) Aplicando continue, armar un ciclo while que solo imprima los valores divisibles por 12, dentro del rango de números de 100 a 300"
   ]
  },
  {
   "cell_type": "code",
   "execution_count": 34,
   "metadata": {},
   "outputs": [
    {
     "name": "stdout",
     "output_type": "stream",
     "text": [
      "108\n",
      "120\n",
      "132\n",
      "144\n",
      "156\n",
      "168\n",
      "180\n",
      "192\n",
      "204\n",
      "216\n",
      "228\n",
      "240\n",
      "252\n",
      "264\n",
      "276\n",
      "288\n"
     ]
    }
   ],
   "source": [
    "start = 100\n",
    "finish = 300\n",
    "while (start < finish):\n",
    "    if (start % 12 == 0):\n",
    "        print(start)\n",
    "    start += 1"
   ]
  },
  {
   "attachments": {},
   "cell_type": "markdown",
   "metadata": {},
   "source": [
    "13) Utilizar la función **input()** que permite hacer ingresos por teclado, para encontrar números primos y dar la opción al usario de buscar el siguiente"
   ]
  },
  {
   "cell_type": "code",
   "execution_count": 39,
   "metadata": {},
   "outputs": [
    {
     "name": "stdout",
     "output_type": "stream",
     "text": [
      "1\n",
      "¿Desea encontrar el siguiente número primo?\n",
      "2\n",
      "¿Desea encontrar el siguiente número primo?\n",
      "3\n",
      "¿Desea encontrar el siguiente número primo?\n",
      "5\n",
      "¿Desea encontrar el siguiente número primo?\n",
      "7\n",
      "¿Desea encontrar el siguiente número primo?\n",
      "11\n",
      "¿Desea encontrar el siguiente número primo?\n",
      "13\n",
      "¿Desea encontrar el siguiente número primo?\n",
      "17\n",
      "¿Desea encontrar el siguiente número primo?\n",
      "19\n",
      "¿Desea encontrar el siguiente número primo?\n",
      "23\n",
      "¿Desea encontrar el siguiente número primo?\n",
      "29\n",
      "¿Desea encontrar el siguiente número primo?\n",
      "31\n",
      "¿Desea encontrar el siguiente número primo?\n",
      "37\n",
      "¿Desea encontrar el siguiente número primo?\n",
      "41\n",
      "¿Desea encontrar el siguiente número primo?\n",
      "43\n",
      "¿Desea encontrar el siguiente número primo?\n",
      "47\n",
      "¿Desea encontrar el siguiente número primo?\n",
      "53\n",
      "¿Desea encontrar el siguiente número primo?\n",
      "59\n",
      "¿Desea encontrar el siguiente número primo?\n",
      "Se finaliza el proceso\n"
     ]
    }
   ],
   "source": [
    "n = 1\n",
    "sigue = 1\n",
    "primo = True\n",
    "while (sigue == 1):\n",
    "    for div in range(2, n):\n",
    "        if (n % div) == 0:\n",
    "            primo = False\n",
    "            break\n",
    "    if primo:\n",
    "        print(n)\n",
    "        print('¿Desea encontrar el siguiente número primo?')\n",
    "        if (input() != '1'):\n",
    "            print('Se finaliza el proceso')\n",
    "            break\n",
    "    else:\n",
    "        primo = True\n",
    "    n += 1"
   ]
  },
  {
   "attachments": {},
   "cell_type": "markdown",
   "metadata": {},
   "source": [
    "14) Crear un ciclo while que encuentre dentro del rango de 100 a 300 el primer número divisible por 3 y además múltiplo de 6"
   ]
  },
  {
   "cell_type": "code",
   "execution_count": 42,
   "metadata": {},
   "outputs": [
    {
     "name": "stdout",
     "output_type": "stream",
     "text": [
      "102\n"
     ]
    }
   ],
   "source": [
    "n = 100\n",
    "while (n < 300):\n",
    "    if (n % 3 == 0) and (n % 6 == 0):\n",
    "        print(n)\n",
    "        break\n",
    "    n += 1"
   ]
  }
 ],
 "metadata": {
  "interpreter": {
   "hash": "c85384e4cb51c8b72350f3a8712cc8351fdc3955e32a27f9b60c6242ab125f01"
  },
  "kernelspec": {
   "display_name": "Python 3 (ipykernel)",
   "language": "python",
   "name": "python3"
  },
  "language_info": {
   "codemirror_mode": {
    "name": "ipython",
    "version": 3
   },
   "file_extension": ".py",
   "mimetype": "text/x-python",
   "name": "python",
   "nbconvert_exporter": "python",
   "pygments_lexer": "ipython3",
   "version": "3.11.6"
  }
 },
 "nbformat": 4,
 "nbformat_minor": 4
}
